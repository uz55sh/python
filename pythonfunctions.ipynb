{
 "cells": [
  {
   "cell_type": "code",
   "execution_count": 3,
   "id": "79f4211b-d60f-4d4d-a097-ff01ae9c552a",
   "metadata": {},
   "outputs": [],
   "source": [
    "def cal_sum(x,y,z):    \n",
    "    return x+y+z\n",
    "    \n"
   ]
  },
  {
   "cell_type": "code",
   "execution_count": 5,
   "id": "3b42b141-aaef-4fc8-a032-f511337b27f6",
   "metadata": {},
   "outputs": [
    {
     "data": {
      "text/plain": [
       "60"
      ]
     },
     "execution_count": 5,
     "metadata": {},
     "output_type": "execute_result"
    }
   ],
   "source": [
    "s1 = cal_sum(10,20,30)\n",
    "s1"
   ]
  },
  {
   "cell_type": "markdown",
   "id": "8035ccb3-9bec-4b43-b0d3-87735c0bf8f3",
   "metadata": {},
   "source": [
    "##### suppose we pass arguments a,b,c to a function(cal_sum) and collect them in x,y,z. Changing x,y,z in the function body, does not change a,b,c. Thus a function is always called by value"
   ]
  },
  {
   "cell_type": "code",
   "execution_count": 6,
   "id": "c0c58269-b8f8-4b97-b55a-26d7ff56e25d",
   "metadata": {},
   "outputs": [
    {
     "data": {
      "text/plain": [
       "6"
      ]
     },
     "execution_count": 6,
     "metadata": {},
     "output_type": "execute_result"
    }
   ],
   "source": [
    "a,b,c=1,2,3\n",
    "s2=cal_sum(a,b,c)\n",
    "s2"
   ]
  },
  {
   "cell_type": "markdown",
   "id": "57935363-1736-43af-974a-866da94548cd",
   "metadata": {},
   "source": [
    "# types of arguments\n",
    "1. positional arguments\n",
    "2. keyword arguments\n",
    "3. variable length positional arguments\n",
    "4. variable length keyword arguments\n",
    "\n",
    "   - positional and keyword arguments are required arguments\n",
    "   - variable length arguments are optional arguments"
   ]
  },
  {
   "cell_type": "markdown",
   "id": "15460d22-ebed-4ba7-8fdb-5a7abdd9af4b",
   "metadata": {},
   "source": [
    "### positional arguments: must be passed in correct positional order"
   ]
  },
  {
   "cell_type": "code",
   "execution_count": 7,
   "id": "231b11f4-b350-4954-97e3-7c63c7159eb1",
   "metadata": {},
   "outputs": [],
   "source": [
    "def fun(i,j,k):\n",
    "    print(i+j)\n",
    "    print(k.upper())"
   ]
  },
  {
   "cell_type": "code",
   "execution_count": 8,
   "id": "6730d8d5-3942-46f3-a26e-41e20c028744",
   "metadata": {},
   "outputs": [
    {
     "name": "stdout",
     "output_type": "stream",
     "text": [
      "13.14\n",
      "UZMI\n"
     ]
    }
   ],
   "source": [
    "fun(10,3.14,'uzmi')"
   ]
  },
  {
   "cell_type": "code",
   "execution_count": 9,
   "id": "d45164f9-fc2f-4182-bdd4-f2b7ca62d3c8",
   "metadata": {},
   "outputs": [
    {
     "ename": "TypeError",
     "evalue": "can only concatenate str (not \"int\") to str",
     "output_type": "error",
     "traceback": [
      "\u001b[0;31m---------------------------------------------------------------------------\u001b[0m",
      "\u001b[0;31mTypeError\u001b[0m                                 Traceback (most recent call last)",
      "Cell \u001b[0;32mIn[9], line 1\u001b[0m\n\u001b[0;32m----> 1\u001b[0m \u001b[43mfun\u001b[49m\u001b[43m(\u001b[49m\u001b[38;5;124;43m'\u001b[39;49m\u001b[38;5;124;43muzmi\u001b[39;49m\u001b[38;5;124;43m'\u001b[39;49m\u001b[43m,\u001b[49m\u001b[38;5;241;43m10\u001b[39;49m\u001b[43m,\u001b[49m\u001b[38;5;241;43m3.14\u001b[39;49m\u001b[43m)\u001b[49m\n",
      "Cell \u001b[0;32mIn[7], line 2\u001b[0m, in \u001b[0;36mfun\u001b[0;34m(i, j, k)\u001b[0m\n\u001b[1;32m      1\u001b[0m \u001b[38;5;28;01mdef\u001b[39;00m \u001b[38;5;21mfun\u001b[39m(i,j,k):\n\u001b[0;32m----> 2\u001b[0m     \u001b[38;5;28mprint\u001b[39m(\u001b[43mi\u001b[49m\u001b[38;5;241;43m+\u001b[39;49m\u001b[43mj\u001b[49m)\n\u001b[1;32m      3\u001b[0m     \u001b[38;5;28mprint\u001b[39m(k\u001b[38;5;241m.\u001b[39mupper())\n",
      "\u001b[0;31mTypeError\u001b[0m: can only concatenate str (not \"int\") to str"
     ]
    }
   ],
   "source": [
    "fun('uzmi',10,3.14)"
   ]
  },
  {
   "cell_type": "markdown",
   "id": "b9094fb7-77ae-46a2-873e-08166bd3a0f7",
   "metadata": {},
   "source": [
    "### keyword arguments : can be passed out of order"
   ]
  },
  {
   "cell_type": "code",
   "execution_count": 10,
   "id": "c5a078e7-4a8a-4e91-8c36-bfe66e04a927",
   "metadata": {},
   "outputs": [],
   "source": [
    "def fun1(i,a,str):\n",
    "    print(i,a,str)"
   ]
  },
  {
   "cell_type": "code",
   "execution_count": 11,
   "id": "2b6e725e-2335-4c2a-8f8b-0f17a182ae7c",
   "metadata": {},
   "outputs": [
    {
     "name": "stdout",
     "output_type": "stream",
     "text": [
      "23 3.142 shebu\n"
     ]
    }
   ],
   "source": [
    "fun1(a = 3.142,str='shebu',i=23)"
   ]
  },
  {
   "cell_type": "code",
   "execution_count": 45,
   "id": "ffe4b856-2b31-44b1-877a-d8fbfb20ee51",
   "metadata": {},
   "outputs": [],
   "source": [
    "def fun2(i,a,str):\n",
    "    print(i+a)\n",
    "    print(str.upper())"
   ]
  },
  {
   "cell_type": "code",
   "execution_count": 46,
   "id": "e8bbbe4b-f8dd-4046-a0bf-ed09cb0eb59e",
   "metadata": {},
   "outputs": [
    {
     "name": "stdout",
     "output_type": "stream",
     "text": [
      "9.8\n",
      "HAZA\n"
     ]
    }
   ],
   "source": [
    "s1 = fun2(a=7.8,str='haza',i=2)"
   ]
  },
  {
   "cell_type": "markdown",
   "id": "5d7b89bc-dd75-4464-a45e-42c44a7ba536",
   "metadata": {},
   "source": [
    "#### positional argument must come before keyword arguments"
   ]
  },
  {
   "cell_type": "code",
   "execution_count": 47,
   "id": "88009243-67ae-4e69-a592-6f6b2ca8e601",
   "metadata": {},
   "outputs": [
    {
     "ename": "SyntaxError",
     "evalue": "positional argument follows keyword argument (1711426756.py, line 1)",
     "output_type": "error",
     "traceback": [
      "\u001b[0;36m  Cell \u001b[0;32mIn[47], line 1\u001b[0;36m\u001b[0m\n\u001b[0;31m    s2 = fun2(a=3.4,2,str='shah')\u001b[0m\n\u001b[0m                                ^\u001b[0m\n\u001b[0;31mSyntaxError\u001b[0m\u001b[0;31m:\u001b[0m positional argument follows keyword argument\n"
     ]
    }
   ],
   "source": [
    "s2 = fun2(a=3.4,2,str='shah')"
   ]
  },
  {
   "cell_type": "code",
   "execution_count": 48,
   "id": "16114572-afeb-4cb4-b48e-8cdab8dedd60",
   "metadata": {},
   "outputs": [
    {
     "name": "stdout",
     "output_type": "stream",
     "text": [
      "5.4\n",
      "SHAH\n"
     ]
    }
   ],
   "source": [
    "s2 = fun2(2,a=3.4,str='shah')"
   ]
  },
  {
   "cell_type": "markdown",
   "id": "a603d468-9d15-4d56-98be-e082440b6183",
   "metadata": {},
   "source": [
    "### variable length positional arguments"
   ]
  },
  {
   "cell_type": "code",
   "execution_count": 21,
   "id": "88ae0bc8-8ad1-4326-afce-9aabae4a4309",
   "metadata": {},
   "outputs": [],
   "source": [
    "def fun2(*args):    # args is a tuple. * indicate that it will hold all arguments passed to fun2\n",
    "    print()\n",
    "    for var in args:\n",
    "        print(var,end='')\n",
    "    "
   ]
  },
  {
   "cell_type": "code",
   "execution_count": 23,
   "id": "f4749e2e-687a-4faf-a39e-872d916b53ea",
   "metadata": {},
   "outputs": [
    {
     "name": "stdout",
     "output_type": "stream",
     "text": [
      "\n",
      "10"
     ]
    }
   ],
   "source": [
    "fun2(10)"
   ]
  },
  {
   "cell_type": "code",
   "execution_count": 28,
   "id": "dca20ffb-a080-487c-88d0-c36fc18aea8a",
   "metadata": {},
   "outputs": [
    {
     "name": "stdout",
     "output_type": "stream",
     "text": [
      "\n",
      "3.4"
     ]
    }
   ],
   "source": [
    "fun2(3.4)"
   ]
  },
  {
   "cell_type": "code",
   "execution_count": 27,
   "id": "2caadc9e-4f3d-41c2-b830-6ef62b903817",
   "metadata": {},
   "outputs": [
    {
     "name": "stdout",
     "output_type": "stream",
     "text": [
      "\n",
      "haza"
     ]
    }
   ],
   "source": [
    "fun2('haza')"
   ]
  },
  {
   "cell_type": "code",
   "execution_count": 40,
   "id": "818bf8f2-54a7-4c28-8a20-42060253a03d",
   "metadata": {},
   "outputs": [],
   "source": [
    "def print_it(**kwargs):    #kwargs is a dictionary containing variable names as key and their values as value\n",
    "    print()\n",
    "    for name,value in kwargs.items():\n",
    "        print(name,value, end=' ')"
   ]
  },
  {
   "cell_type": "code",
   "execution_count": 41,
   "id": "3fe5ab1d-9339-4d69-9c39-242f857929ce",
   "metadata": {},
   "outputs": [],
   "source": [
    "dct = {'student':'sara','age':23}"
   ]
  },
  {
   "cell_type": "code",
   "execution_count": 42,
   "id": "e29c5a3b-cbee-4860-bf06-fc62bb9dad1f",
   "metadata": {},
   "outputs": [
    {
     "name": "stdout",
     "output_type": "stream",
     "text": [
      "\n",
      "student sara age 23 "
     ]
    }
   ],
   "source": [
    "print_it(**dct)"
   ]
  },
  {
   "cell_type": "code",
   "execution_count": 43,
   "id": "426bb964-98a4-4ada-8e72-4e2f681dcf62",
   "metadata": {},
   "outputs": [
    {
     "name": "stdout",
     "output_type": "stream",
     "text": [
      "\n",
      "a 12 b 7.8 c shez "
     ]
    }
   ],
   "source": [
    "print_it(a= 12, b=7.8, c='shez')"
   ]
  },
  {
   "cell_type": "markdown",
   "id": "27e7b856-2005-437b-b84a-95d5cbeca3c6",
   "metadata": {},
   "source": [
    "## order( posistional arguments comes first then keyword arguments)\n",
    "1. positional arguments(10,3.4,'uzmi')\n",
    "2. variable length positional arguments(*args)\n",
    "3. keyword arguments(i=10,a= 3.4,str='uzmi')\n",
    "4. variable length keyword arguments(**kwargs)\n"
   ]
  },
  {
   "cell_type": "code",
   "execution_count": 49,
   "id": "b904f53c-de0f-4072-bf7a-402500fd4ba3",
   "metadata": {},
   "outputs": [],
   "source": [
    "def func_1(i,j,*args,x,y,**kwargs):\n",
    "    print()\n",
    "    print(i,j,end='  ')\n",
    "    for var in args:\n",
    "        print(var, end='  ')\n",
    "    print(x,y,end='  ')\n",
    "    for name,value in kwargs.items():\n",
    "        print(name,value,end='  ')"
   ]
  },
  {
   "cell_type": "code",
   "execution_count": 54,
   "id": "f0db52fd-7da3-44e6-b3ab-e409df2070a1",
   "metadata": {},
   "outputs": [],
   "source": [
    "def fun(a,b=10,c=80):\n",
    "    return(a+b+c)"
   ]
  },
  {
   "cell_type": "code",
   "execution_count": 55,
   "id": "e1706b46-fe35-47f7-950b-d84221b80684",
   "metadata": {},
   "outputs": [
    {
     "data": {
      "text/plain": [
       "100"
      ]
     },
     "execution_count": 55,
     "metadata": {},
     "output_type": "execute_result"
    }
   ],
   "source": [
    "fun(10)   #10+10+80 = 100 "
   ]
  },
  {
   "cell_type": "code",
   "execution_count": 56,
   "id": "03ba9481-9f20-46e3-bbd9-1cf86e13387f",
   "metadata": {},
   "outputs": [
    {
     "data": {
      "text/plain": [
       "140"
      ]
     },
     "execution_count": 56,
     "metadata": {},
     "output_type": "execute_result"
    }
   ],
   "source": [
    "fun(10,50)    # 10+50+80= 140"
   ]
  },
  {
   "cell_type": "code",
   "execution_count": 57,
   "id": "6d170ce2-50f8-44ae-bd6f-4654d34fe3d8",
   "metadata": {},
   "outputs": [
    {
     "data": {
      "text/plain": [
       "90"
      ]
     },
     "execution_count": 57,
     "metadata": {},
     "output_type": "execute_result"
    }
   ],
   "source": [
    "fun(20,30,40)   #20+30+40 = 90"
   ]
  },
  {
   "cell_type": "code",
   "execution_count": 58,
   "id": "6a898601-21ec-456e-aa89-b5120bc34ee2",
   "metadata": {},
   "outputs": [],
   "source": [
    "def fun(a,b,c,d):\n",
    "    print(a,b,c,d)"
   ]
  },
  {
   "cell_type": "code",
   "execution_count": 59,
   "id": "ee720a2c-eeb9-4c89-9873-18ed3f7fe443",
   "metadata": {},
   "outputs": [],
   "source": [
    "lst = [10,20,30,40]\n",
    "tpl = ('A','B','C','D')\n",
    "set = {1,2,3,4}"
   ]
  },
  {
   "cell_type": "code",
   "execution_count": 60,
   "id": "6badb128-6558-4eeb-83b2-3ae7fa70796c",
   "metadata": {},
   "outputs": [
    {
     "ename": "TypeError",
     "evalue": "fun() missing 3 required positional arguments: 'b', 'c', and 'd'",
     "output_type": "error",
     "traceback": [
      "\u001b[0;31m---------------------------------------------------------------------------\u001b[0m",
      "\u001b[0;31mTypeError\u001b[0m                                 Traceback (most recent call last)",
      "Cell \u001b[0;32mIn[60], line 1\u001b[0m\n\u001b[0;32m----> 1\u001b[0m \u001b[43mfun\u001b[49m\u001b[43m(\u001b[49m\u001b[43mlst\u001b[49m\u001b[43m)\u001b[49m\n",
      "\u001b[0;31mTypeError\u001b[0m: fun() missing 3 required positional arguments: 'b', 'c', and 'd'"
     ]
    }
   ],
   "source": [
    "fun(lst)"
   ]
  },
  {
   "cell_type": "code",
   "execution_count": 61,
   "id": "5e7bfc07-cda1-468b-9148-8eeff4cf4581",
   "metadata": {},
   "outputs": [
    {
     "name": "stdout",
     "output_type": "stream",
     "text": [
      "10 20 30 40\n"
     ]
    }
   ],
   "source": [
    "fun(*lst)"
   ]
  },
  {
   "cell_type": "code",
   "execution_count": 62,
   "id": "98b8a0d2-a72a-4db6-a250-bf51ccee63de",
   "metadata": {},
   "outputs": [
    {
     "name": "stdout",
     "output_type": "stream",
     "text": [
      "A B C D\n"
     ]
    }
   ],
   "source": [
    "fun(*tpl)"
   ]
  },
  {
   "cell_type": "code",
   "execution_count": 63,
   "id": "72f8254e-0155-44d0-9158-7a4f609b2bf9",
   "metadata": {},
   "outputs": [
    {
     "name": "stdout",
     "output_type": "stream",
     "text": [
      "1 2 3 4\n"
     ]
    }
   ],
   "source": [
    "fun(*set)"
   ]
  },
  {
   "cell_type": "code",
   "execution_count": 64,
   "id": "3a15f1cd-4101-4254-8af4-1293b91d978a",
   "metadata": {},
   "outputs": [],
   "source": [
    "def fun(name='motu',marks=240):\n",
    "    print(name,marks)"
   ]
  },
  {
   "cell_type": "code",
   "execution_count": 65,
   "id": "04e722f1-75f8-454f-b816-8f468209f50b",
   "metadata": {},
   "outputs": [],
   "source": [
    "dict = {'name':'shebu','marks':100}"
   ]
  },
  {
   "cell_type": "code",
   "execution_count": 68,
   "id": "7df4cf78-14bd-49fd-8baa-f9128b11cadf",
   "metadata": {},
   "outputs": [
    {
     "name": "stdout",
     "output_type": "stream",
     "text": [
      "shebu 100\n"
     ]
    }
   ],
   "source": [
    "fun(**dict)"
   ]
  },
  {
   "cell_type": "markdown",
   "id": "e575a716-0176-4a0c-9d11-b8faea1dcfb8",
   "metadata": {},
   "source": [
    "# exercise"
   ]
  },
  {
   "cell_type": "markdown",
   "id": "32bafd2f-3430-4117-89cb-5ba74de0380b",
   "metadata": {},
   "source": [
    "### write a program to recieve three integers from keyboard and get thier sum and product calculated through a user-defined function"
   ]
  },
  {
   "cell_type": "code",
   "execution_count": 69,
   "id": "f49f6dae-c3d9-4b44-96dc-90f272f844fa",
   "metadata": {},
   "outputs": [],
   "source": [
    "def sum(a,b,c):\n",
    "    print(a+b+c)\n",
    "    print(a*b*c)"
   ]
  },
  {
   "cell_type": "code",
   "execution_count": 72,
   "id": "8897e866-74bc-4a23-8f98-6e0b329f9e2e",
   "metadata": {},
   "outputs": [
    {
     "name": "stdout",
     "output_type": "stream",
     "text": [
      "9\n",
      "24\n"
     ]
    }
   ],
   "source": [
    "sum(4,2,3)"
   ]
  },
  {
   "cell_type": "code",
   "execution_count": 73,
   "id": "01bb3207-02f0-4f1a-8f01-69989cc10adc",
   "metadata": {},
   "outputs": [],
   "source": [
    "def sum_prod(x,y,z):\n",
    "    ss = x+y+z\n",
    "    pp = x*y*z\n",
    "    return(ss,pp)"
   ]
  },
  {
   "cell_type": "code",
   "execution_count": 76,
   "id": "fb7cf6f0-6e4a-4268-9633-d317b2fb14e6",
   "metadata": {},
   "outputs": [
    {
     "name": "stdin",
     "output_type": "stream",
     "text": [
      "enter a: 3\n",
      "enter b: 5\n",
      "enter c: 7\n"
     ]
    },
    {
     "name": "stdout",
     "output_type": "stream",
     "text": [
      "15 105\n"
     ]
    }
   ],
   "source": [
    "a = int(input('enter a:'))\n",
    "b = int(input('enter b:'))\n",
    "c = int(input('enter c:'))\n",
    "s,p = sum_prod(a,b,c)\n",
    "print(s,p)"
   ]
  },
  {
   "cell_type": "markdown",
   "id": "78e6cc1b-4ab2-45c3-9981-ba7ac3027816",
   "metadata": {},
   "source": [
    "### pangram is a sentence that uses every letter of the alphabet. Write a program that checks whether a given string is pangram or not, through a user defined function ispangram."
   ]
  },
  {
   "cell_type": "code",
   "execution_count": 82,
   "id": "41f2bca5-7961-42be-84a2-71b2a9222c36",
   "metadata": {},
   "outputs": [],
   "source": [
    "def ispangram(s):\n",
    "    alphaset= set('abcdefghijklmnopqrstuvwxyz')\n",
    "    return alphaset <= set(s.lower())"
   ]
  },
  {
   "cell_type": "code",
   "execution_count": 83,
   "id": "34826e93-4221-4237-b482-60afa1b97e4d",
   "metadata": {},
   "outputs": [
    {
     "ename": "TypeError",
     "evalue": "'set' object is not callable",
     "output_type": "error",
     "traceback": [
      "\u001b[0;31m---------------------------------------------------------------------------\u001b[0m",
      "\u001b[0;31mTypeError\u001b[0m                                 Traceback (most recent call last)",
      "Cell \u001b[0;32mIn[83], line 1\u001b[0m\n\u001b[0;32m----> 1\u001b[0m \u001b[38;5;28mprint\u001b[39m(\u001b[43mispangram\u001b[49m\u001b[43m(\u001b[49m\u001b[38;5;124;43m'\u001b[39;49m\u001b[38;5;124;43muzma is happy\u001b[39;49m\u001b[38;5;124;43m'\u001b[39;49m\u001b[43m)\u001b[49m)\n",
      "Cell \u001b[0;32mIn[82], line 2\u001b[0m, in \u001b[0;36mispangram\u001b[0;34m(s)\u001b[0m\n\u001b[1;32m      1\u001b[0m \u001b[38;5;28;01mdef\u001b[39;00m \u001b[38;5;21mispangram\u001b[39m(s):\n\u001b[0;32m----> 2\u001b[0m     alphaset\u001b[38;5;241m=\u001b[39m \u001b[38;5;28;43mset\u001b[39;49m\u001b[43m(\u001b[49m\u001b[38;5;124;43m'\u001b[39;49m\u001b[38;5;124;43mabcdefghijklmnopqrstuvwxyz\u001b[39;49m\u001b[38;5;124;43m'\u001b[39;49m\u001b[43m)\u001b[49m\n\u001b[1;32m      3\u001b[0m     \u001b[38;5;28;01mreturn\u001b[39;00m alphaset \u001b[38;5;241m<\u001b[39m\u001b[38;5;241m=\u001b[39m \u001b[38;5;28mset\u001b[39m(s\u001b[38;5;241m.\u001b[39mlower())\n",
      "\u001b[0;31mTypeError\u001b[0m: 'set' object is not callable"
     ]
    }
   ],
   "source": [
    "print(ispangram('uzma is happy'))"
   ]
  },
  {
   "cell_type": "markdown",
   "id": "fa28e12a-a005-456f-9565-4024d495cd87",
   "metadata": {},
   "source": [
    "### write a python program that accepts a hyphen separated sequence of words as input and calls a function convert() which converts it into a hyphen separated sequence after sorting them alphabetically.\n"
   ]
  },
  {
   "cell_type": "code",
   "execution_count": 84,
   "id": "52469901-f689-4808-9136-3b2e562adf16",
   "metadata": {},
   "outputs": [],
   "source": [
    "def convert(s1):\n",
    "    items =[ s for s in s1.split('-')]   # list comprehension\n",
    "    items.sort()\n",
    "    s2 = '-'.join(items)\n",
    "    return s2"
   ]
  },
  {
   "cell_type": "code",
   "execution_count": 85,
   "id": "466d751b-a2af-4d98-b114-9fb40c86f1c8",
   "metadata": {},
   "outputs": [
    {
     "data": {
      "text/plain": [
       "'and-brave-honest-is-uzma'"
      ]
     },
     "execution_count": 85,
     "metadata": {},
     "output_type": "execute_result"
    }
   ],
   "source": [
    "s = 'uzma-is-honest-and-brave'\n",
    "convert(s)\n"
   ]
  },
  {
   "cell_type": "markdown",
   "id": "354140c9-708c-4431-81e2-7129a0eba972",
   "metadata": {},
   "source": [
    "### write a python function to create a list containig tuple of the form(x,x^2,x^3) for all x between 1 and 20(both included)"
   ]
  },
  {
   "cell_type": "code",
   "execution_count": 98,
   "id": "834d7dfb-cdff-4e8b-8fc2-2bd72635a397",
   "metadata": {},
   "outputs": [
    {
     "name": "stdout",
     "output_type": "stream",
     "text": [
      "[(1, 1, 1)]\n"
     ]
    }
   ],
   "source": [
    "def generate_list():\n",
    "    lst=[]\n",
    "    for i in range(1,11):\n",
    "        lst.append((i,i**2,i**3))\n",
    "        return lst\n",
    "l = generate_list()\n",
    "print(l)      "
   ]
  },
  {
   "cell_type": "markdown",
   "id": "cc7b3c00-abd8-416e-83f2-9c865f304553",
   "metadata": {},
   "source": [
    "### write a program that defines a function convert() that recieves a string containig a sequence of whitespace separated words and return a string after removing all duplicate words and sorting them alphanumerically.\n",
    "- set() removes duplicate data automatically\n"
   ]
  },
  {
   "cell_type": "code",
   "execution_count": 101,
   "id": "0f18d9b6-e806-49aa-9db1-91597547b5ee",
   "metadata": {},
   "outputs": [
    {
     "ename": "TypeError",
     "evalue": "'set' object is not callable",
     "output_type": "error",
     "traceback": [
      "\u001b[0;31m---------------------------------------------------------------------------\u001b[0m",
      "\u001b[0;31mTypeError\u001b[0m                                 Traceback (most recent call last)",
      "Cell \u001b[0;32mIn[101], line 5\u001b[0m\n\u001b[1;32m      3\u001b[0m     \u001b[38;5;28;01mreturn\u001b[39;00m \u001b[38;5;124m'\u001b[39m\u001b[38;5;124m'\u001b[39m\u001b[38;5;241m.\u001b[39mjoin(\u001b[38;5;28msorted\u001b[39m(\u001b[38;5;28mlist\u001b[39m(\u001b[38;5;28mset\u001b[39m(words))))\n\u001b[1;32m      4\u001b[0m s \u001b[38;5;241m=\u001b[39m \u001b[38;5;124m'\u001b[39m\u001b[38;5;124mi felt happy becuase i saw the others were happy and because i knew i should feel happy, but i wasn\u001b[39m\u001b[38;5;130;01m\\'\u001b[39;00m\u001b[38;5;124mt really happy\u001b[39m\u001b[38;5;124m'\u001b[39m\n\u001b[0;32m----> 5\u001b[0m t \u001b[38;5;241m=\u001b[39m \u001b[43mconvert\u001b[49m\u001b[43m(\u001b[49m\u001b[43ms\u001b[49m\u001b[43m)\u001b[49m\n",
      "Cell \u001b[0;32mIn[101], line 3\u001b[0m, in \u001b[0;36mconvert\u001b[0;34m(s)\u001b[0m\n\u001b[1;32m      1\u001b[0m \u001b[38;5;28;01mdef\u001b[39;00m \u001b[38;5;21mconvert\u001b[39m(s):\n\u001b[1;32m      2\u001b[0m     words \u001b[38;5;241m=\u001b[39m [word \u001b[38;5;28;01mfor\u001b[39;00m word \u001b[38;5;129;01min\u001b[39;00m s\u001b[38;5;241m.\u001b[39msplit(\u001b[38;5;124m'\u001b[39m\u001b[38;5;124m \u001b[39m\u001b[38;5;124m'\u001b[39m)]\n\u001b[0;32m----> 3\u001b[0m     \u001b[38;5;28;01mreturn\u001b[39;00m \u001b[38;5;124m'\u001b[39m\u001b[38;5;124m'\u001b[39m\u001b[38;5;241m.\u001b[39mjoin(\u001b[38;5;28msorted\u001b[39m(\u001b[38;5;28mlist\u001b[39m(\u001b[38;5;28;43mset\u001b[39;49m\u001b[43m(\u001b[49m\u001b[43mwords\u001b[49m\u001b[43m)\u001b[49m)))\n",
      "\u001b[0;31mTypeError\u001b[0m: 'set' object is not callable"
     ]
    }
   ],
   "source": [
    "def convert(s):\n",
    "    words = [word for word in s.split(' ')]\n",
    "    return ''.join(sorted(list(set(words))))\n",
    "s = 'i felt happy becuase i saw the others were happy and because i knew i should feel happy, but i wasn\\'t really happy'\n",
    "t = convert(s)"
   ]
  },
  {
   "cell_type": "markdown",
   "id": "84f8d28f-9e9d-4827-a933-a84c32bc27ac",
   "metadata": {},
   "source": [
    "### write a program that defines a function count_alphabets_digits() that accepts string and calculates the number of alphabets and digits in it. It should return these values as dictionary."
   ]
  },
  {
   "cell_type": "code",
   "execution_count": 119,
   "id": "73254348-5476-4fa7-bf7f-7c201a1f5429",
   "metadata": {},
   "outputs": [],
   "source": [
    "def count_alphabets_digit(s):\n",
    "    d ={'digits': 0, 'alphabets': 0}\n",
    "    for ch in s:\n",
    "        if ch.isalpha():\n",
    "            d['alphabets'] += 1\n",
    "        elif ch.isdigit():\n",
    "            d['digits'] += 1\n",
    "        else:\n",
    "            pass\n",
    "            return(d)\n"
   ]
  },
  {
   "cell_type": "code",
   "execution_count": 122,
   "id": "1ae7312e-5f97-4565-9298-84f57306380e",
   "metadata": {},
   "outputs": [
    {
     "name": "stdout",
     "output_type": "stream",
     "text": [
      "{'digits': 0, 'alphabets': 5}\n"
     ]
    }
   ],
   "source": [
    "d = count_alphabets_digit('james bond 123')\n",
    "print(d)\n"
   ]
  },
  {
   "cell_type": "code",
   "execution_count": 123,
   "id": "720739a9-10e2-4bea-8a15-3cd7cecb722e",
   "metadata": {},
   "outputs": [
    {
     "name": "stdout",
     "output_type": "stream",
     "text": [
      "{'digits': 0, 'alphabets': 4}\n"
     ]
    }
   ],
   "source": [
    "d = count_alphabets_digit('uzma 1996')\n",
    "print(d)"
   ]
  },
  {
   "cell_type": "markdown",
   "id": "3e8dbfd8-c728-496b-8717-e071e4f14b4f",
   "metadata": {},
   "source": [
    "### write a program that defines a function called frequency() which computes the frequency of words present in a string passed to it. the frequencies should be returned in sorted order by words in the string."
   ]
  },
  {
   "cell_type": "code",
   "execution_count": 127,
   "id": "82935f4b-2062-432f-96d6-22b87d78ced1",
   "metadata": {},
   "outputs": [],
   "source": [
    "def frequency(s):\n",
    "    freq={}\n",
    "    for word in s.split():\n",
    "        freq[word] = freq.get(word,0)+1\n",
    "    return freq"
   ]
  },
  {
   "cell_type": "code",
   "execution_count": 128,
   "id": "4d6977c4-c392-4eb5-ba61-ef4b4517bde3",
   "metadata": {},
   "outputs": [
    {
     "name": "stdout",
     "output_type": "stream",
     "text": [
      "all:1\n",
      "for:1\n",
      "is:2\n",
      "it:1\n",
      "not:1\n",
      "refres:1\n",
      "same:1\n",
      "tha:1\n",
      "that:9\n",
      "to:2\n",
      "true:1\n"
     ]
    }
   ],
   "source": [
    "sentence = 'it is true for all that that that that that refres to is not tha same that that that that to'\n",
    "d = frequency(sentence)\n",
    "words = sorted(d)\n",
    "for w in words: \n",
    "    print('%s:%d'%(w,d[w]))"
   ]
  },
  {
   "cell_type": "code",
   "execution_count": 131,
   "id": "1c999ffa-e7da-43ae-8813-251135f531f4",
   "metadata": {},
   "outputs": [],
   "source": [
    "def test_shah(a):\n",
    "    b = input('Enter your 1st name:')\n",
    "    return f'Full name is {b} {a}'"
   ]
  },
  {
   "cell_type": "code",
   "execution_count": 132,
   "id": "1804df01-44b9-4a0f-8cb5-86ebae0e117c",
   "metadata": {},
   "outputs": [
    {
     "name": "stdin",
     "output_type": "stream",
     "text": [
      "Enter your 1st name: Shah\n"
     ]
    },
    {
     "data": {
      "text/plain": [
       "'Full name is Shah Mujawar'"
      ]
     },
     "execution_count": 132,
     "metadata": {},
     "output_type": "execute_result"
    }
   ],
   "source": [
    "test_shah('Mujawar')"
   ]
  },
  {
   "cell_type": "code",
   "execution_count": null,
   "id": "df0b4dc0-6f46-4c8e-bcc5-1c5719ed685c",
   "metadata": {},
   "outputs": [],
   "source": []
  }
 ],
 "metadata": {
  "kernelspec": {
   "display_name": "Python 3 (ipykernel)",
   "language": "python",
   "name": "python3"
  },
  "language_info": {
   "codemirror_mode": {
    "name": "ipython",
    "version": 3
   },
   "file_extension": ".py",
   "mimetype": "text/x-python",
   "name": "python",
   "nbconvert_exporter": "python",
   "pygments_lexer": "ipython3",
   "version": "3.10.12"
  }
 },
 "nbformat": 4,
 "nbformat_minor": 5
}
